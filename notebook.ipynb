{
 "cells": [
  {
   "cell_type": "code",
   "execution_count": 1,
   "metadata": {},
   "outputs": [],
   "source": [
    "import numpy as np"
   ]
  },
  {
   "cell_type": "code",
   "execution_count": 12,
   "metadata": {},
   "outputs": [],
   "source": [
    "Lx, Ly, Lz = 1, 1, 1\n",
    "nodes = 5\n",
    "hx = Lx / (nodes - 1)\n",
    "hy = Ly / (nodes - 1)\n",
    "hz = Lz / (nodes - 1)\n",
    "\n",
    "\n",
    "time_ticks = 20\n",
    "tau = 0.0001\n",
    "\n",
    "X = np.arange(nodes)[:, np.newaxis, np.newaxis, np.newaxis] / (nodes - 1) * Lx\n",
    "Y = np.arange(nodes)[np.newaxis, :, np.newaxis, np.newaxis] / (nodes - 1) * Ly\n",
    "Z = np.arange(nodes)[np.newaxis, np.newaxis, :, np.newaxis] / (nodes - 1) * Lz\n",
    "T = np.arange(time_ticks)[np.newaxis, np.newaxis, np.newaxis, :] * tau\n",
    "\n",
    "analytical = np.sin(np.pi * X / Lx) * np.sin(np.pi * Y / Ly) * np.sin(np.pi * Z / Lz) * np.cos(3 * T) \n",
    "\n",
    "# analytical = np.sin(3 * np.pi * X / Lx) * np.sin( 3 * np.pi * Y / Ly) * np.sin(np.pi * Z / Lz) * np.cos(4 * (T + np.pi)) \n"
   ]
  },
  {
   "cell_type": "code",
   "execution_count": 13,
   "metadata": {},
   "outputs": [
    {
     "name": "stdout",
     "output_type": "stream",
     "text": [
      "[[[0.000e+00 0.000e+00 0.000e+00 0.000e+00 0.000e+00]\n",
      "  [0.000e+00 0.000e+00 0.000e+00 0.000e+00 0.000e+00]\n",
      "  [0.000e+00 0.000e+00 0.000e+00 0.000e+00 0.000e+00]\n",
      "  [0.000e+00 0.000e+00 0.000e+00 0.000e+00 0.000e+00]\n",
      "  [0.000e+00 0.000e+00 0.000e+00 0.000e+00 0.000e+00]]\n",
      "\n",
      " [[0.000e+00 0.000e+00 0.000e+00 0.000e+00 0.000e+00]\n",
      "  [0.000e+00 3.536e-01 5.000e-01 3.536e-01 6.123e-17]\n",
      "  [0.000e+00 5.000e-01 7.071e-01 5.000e-01 8.660e-17]\n",
      "  [0.000e+00 3.536e-01 5.000e-01 3.536e-01 6.123e-17]\n",
      "  [0.000e+00 6.123e-17 8.660e-17 6.123e-17 1.060e-32]]\n",
      "\n",
      " [[0.000e+00 0.000e+00 0.000e+00 0.000e+00 0.000e+00]\n",
      "  [0.000e+00 5.000e-01 7.071e-01 5.000e-01 8.660e-17]\n",
      "  [0.000e+00 7.071e-01 1.000e+00 7.071e-01 1.225e-16]\n",
      "  [0.000e+00 5.000e-01 7.071e-01 5.000e-01 8.660e-17]\n",
      "  [0.000e+00 8.660e-17 1.225e-16 8.660e-17 1.500e-32]]\n",
      "\n",
      " [[0.000e+00 0.000e+00 0.000e+00 0.000e+00 0.000e+00]\n",
      "  [0.000e+00 3.536e-01 5.000e-01 3.536e-01 6.123e-17]\n",
      "  [0.000e+00 5.000e-01 7.071e-01 5.000e-01 8.660e-17]\n",
      "  [0.000e+00 3.536e-01 5.000e-01 3.536e-01 6.123e-17]\n",
      "  [0.000e+00 6.123e-17 8.660e-17 6.123e-17 1.060e-32]]\n",
      "\n",
      " [[0.000e+00 0.000e+00 0.000e+00 0.000e+00 0.000e+00]\n",
      "  [0.000e+00 6.123e-17 8.660e-17 6.123e-17 1.060e-32]\n",
      "  [0.000e+00 8.660e-17 1.225e-16 8.660e-17 1.500e-32]\n",
      "  [0.000e+00 6.123e-17 8.660e-17 6.123e-17 1.060e-32]\n",
      "  [0.000e+00 1.060e-32 1.500e-32 1.060e-32 1.837e-48]]]\n"
     ]
    }
   ],
   "source": [
    "print(analytical[:,:,:,0])"
   ]
  },
  {
   "cell_type": "code",
   "execution_count": 17,
   "metadata": {},
   "outputs": [
    {
     "name": "stdout",
     "output_type": "stream",
     "text": [
      "5.05887433055463e-08\n",
      "1.517662160388511e-07\n",
      "3.035323926647848e-07\n",
      "5.058872357688315e-07\n",
      "7.588306966122005e-07\n",
      "1.0623627144656922e-06\n",
      "1.41648321716481e-06\n",
      "1.8211921206656712e-06\n",
      "2.2764893296001176e-06\n",
      "2.7823747364985607e-06\n",
      "3.338848222345092e-06\n",
      "3.945909656799529e-06\n",
      "4.603558897420257e-06\n",
      "5.311795790330365e-06\n",
      "6.0706201699956e-06\n",
      "6.880031859113345e-06\n",
      "7.740030668723641e-06\n",
      "8.65061639832021e-06\n"
     ]
    }
   ],
   "source": [
    "def laplasian(a):\n",
    "    padded = np.pad(a, 1, 'constant')\n",
    "    out = (padded[:-2,1:-1,1:-1] - 2 * padded[1:-1,1:-1,1:-1] + padded[2:,1:-1,1:-1]) / hx ** 2 + \\\n",
    "          (padded[1:-1,:-2,1:-1] - 2 * padded[1:-1,1:-1,1:-1] + padded[1:-1,2:,1:-1]) / hy ** 2 + \\\n",
    "          (padded[1:-1,1:-1,:-2] - 2 * padded[1:-1,1:-1,1:-1] + padded[1:-1,1:-1,2:]) / hz ** 2\n",
    "    \n",
    "    out[0,:,:] = 0\n",
    "    out[-1,:,:] = 0\n",
    "    out[:,0,:] = 0\n",
    "    out[:,-1,:] = 0\n",
    "    out[:,:,0] = 0\n",
    "    out[:,:,-1] = 0\n",
    "    \n",
    "    return out\n",
    "\n",
    "result = np.zeros((nodes, nodes, nodes, time_ticks))\n",
    "# result[:,:,:,0:1] = np.sin(np.pi * X / Lx) * np.sin(np.pi * Y / Ly) * np.sin(np.pi * Z / Lz)\n",
    "# result[:,:,:,1] = result[:,:,:,0] + tau ** 2 * laplasian(result[:,:,:,0]) / 2\n",
    "\n",
    "result[:,:,:,0] = analytical[:,:,:,0]\n",
    "result[:,:,:,1] = analytical[:,:,:,1]\n",
    "\n",
    "np.set_printoptions(precision=3)\n",
    "np.set_printoptions(floatmode='fixed')\n",
    "# print(analytical[:,:,:,1])\n",
    "\n",
    "for i in range(2, time_ticks):\n",
    "    result[:,:,:,i] = 2 * result[:,:,:,i-1] - result[:,:,:,i-2] + tau ** 2 * laplasian(result[:,:,:,i-1]) / 2\n",
    "    print(np.max(np.abs(analytical[:,:,:,i] - result[:,:,:,i])))\n"
   ]
  },
  {
   "cell_type": "code",
   "execution_count": null,
   "metadata": {},
   "outputs": [],
   "source": []
  },
  {
   "cell_type": "code",
   "execution_count": 13,
   "metadata": {},
   "outputs": [],
   "source": []
  },
  {
   "cell_type": "code",
   "execution_count": null,
   "metadata": {},
   "outputs": [],
   "source": []
  },
  {
   "cell_type": "code",
   "execution_count": null,
   "metadata": {},
   "outputs": [],
   "source": []
  }
 ],
 "metadata": {
  "kernelspec": {
   "display_name": "Python 3",
   "language": "python",
   "name": "python3"
  },
  "language_info": {
   "codemirror_mode": {
    "name": "ipython",
    "version": 3
   },
   "file_extension": ".py",
   "mimetype": "text/x-python",
   "name": "python",
   "nbconvert_exporter": "python",
   "pygments_lexer": "ipython3",
   "version": "3.7.3"
  }
 },
 "nbformat": 4,
 "nbformat_minor": 2
}
