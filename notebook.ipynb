{
 "cells": [
  {
   "cell_type": "code",
   "execution_count": 1,
   "metadata": {},
   "outputs": [
    {
     "name": "stdout",
     "output_type": "stream",
     "text": [
      "Better speed can be achieved with apex installed from https://www.github.com/nvidia/apex.\n"
     ]
    }
   ],
   "source": [
    "from wsi.lm_bert import LMBert\n",
    "import os\n",
    "import logging\n",
    "from time import strftime\n",
    "from wsi.WSISettings import DEFAULT_PARAMS, WSISettings\n",
    "from wsi.wsi import WordSenseInductor\n",
    "from multiprocessing import cpu_count\n",
    "# from pytorch_pretrained_bert import *\n",
    "import sys\n"
   ]
  },
  {
   "cell_type": "code",
   "execution_count": null,
   "metadata": {},
   "outputs": [],
   "source": [
    "\n",
    "# for i in range(10):\n",
    "settings = DEFAULT_PARAMS._asdict()\n",
    "\n",
    "# --------------- modify default settings\n",
    "\n",
    "# settings['debug_dir'] = 'draft'\n",
    "#\n",
    "# run_name = strftime(\"%m%d-%H%M%S\") + '-wth72'\n",
    "# settings['run_name'] = run_name\n",
    "\n",
    "# --------------- finalizing settings\n",
    "settings = WSISettings(**settings)\n",
    "\n",
    "startmsg = 'BERT WSI Demo\\n\\n'\n",
    "startmsg += 'Arguments:\\n'\n",
    "startmsg += '-' * 10 + '\\n'\n",
    "for arg, val in settings._asdict().items():\n",
    "    startmsg += (' %-30s:%s\\n' % (arg.replace('_', '-'), val))\n",
    "startmsg = startmsg.strip()\n",
    "\n",
    "lm = LMBert(settings.cuda_device, settings.bert_model,\n",
    "            max_batch_size=settings.max_batch_size)\n",
    "\n",
    "if settings.debug_dir:\n",
    "    if not os.path.exists(settings.debug_dir):\n",
    "        os.makedirs(settings.debug_dir)\n",
    "\n",
    "    # root_logger.disabled=True\n",
    "    handler = logging.FileHandler(os.path.join(settings.debug_dir, '%s.log.txt' % settings.run_name), 'w', 'utf-8')\n",
    "    formatter = logging.Formatter(fmt='%(asctime)s %(message)s', datefmt='%H:%M:%S')\n",
    "    handler.setFormatter(formatter)\n",
    "    root_logger.addHandler(handler)\n",
    "\n",
    "    # handler2 = logging.StreamHandler()\n",
    "    # handler2.setFormatter(formatter)\n",
    "    # root_logger.addHandler(handler2)\n",
    "logging.info(startmsg)\n",
    "\n",
    "if sys.platform == 'linux':\n",
    "    os.popen(f\"taskset -cp 0-{cpu_count()-1} {os.getpid()}\").read()  # scipy defaults to one core otherwise\n",
    "\n",
    "print(startmsg)\n",
    "print('this run name: %s' % settings.run_name)\n",
    "\n",
    "word_sense_inductor = WordSenseInductor(lm)\n",
    "\n",
    "scores2010, scores2013 = word_sense_inductor.run(settings,\n",
    "                                                 print_progress=True)\n",
    "logging.info('full results: %s' % ((scores2013,scores2010),))\n"
   ]
  }
 ],
 "metadata": {
  "kernelspec": {
   "display_name": "Python 3",
   "language": "python",
   "name": "python3"
  },
  "language_info": {
   "codemirror_mode": {
    "name": "ipython",
    "version": 3
   },
   "file_extension": ".py",
   "mimetype": "text/x-python",
   "name": "python",
   "nbconvert_exporter": "python",
   "pygments_lexer": "ipython3",
   "version": "3.7.3"
  }
 },
 "nbformat": 4,
 "nbformat_minor": 2
}
